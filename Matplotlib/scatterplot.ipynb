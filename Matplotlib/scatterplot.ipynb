{
 "cells": [
  {
   "cell_type": "markdown",
   "metadata": {},
   "source": [
    "In this section, I will create a scatter plot based on Matplotlib with cars.csv."
   ]
  },
  {
   "cell_type": "code",
   "execution_count": 1,
   "metadata": {},
   "outputs": [],
   "source": [
    "import matplotlib.pyplot as plt\n",
    "import numpy as np\n",
    "import pandas as pd\n",
    "from IPython.core.interactiveshell import InteractiveShell\n",
    "InteractiveShell.ast_node_interactivity = \"all\""
   ]
  },
  {
   "cell_type": "code",
   "execution_count": 2,
   "metadata": {},
   "outputs": [
    {
     "data": {
      "text/html": [
       "<div>\n",
       "<style scoped>\n",
       "    .dataframe tbody tr th:only-of-type {\n",
       "        vertical-align: middle;\n",
       "    }\n",
       "\n",
       "    .dataframe tbody tr th {\n",
       "        vertical-align: top;\n",
       "    }\n",
       "\n",
       "    .dataframe thead th {\n",
       "        text-align: right;\n",
       "    }\n",
       "</style>\n",
       "<table border=\"1\" class=\"dataframe\">\n",
       "  <thead>\n",
       "    <tr style=\"text-align: right;\">\n",
       "      <th></th>\n",
       "      <th>Unnamed: 0</th>\n",
       "      <th>Car</th>\n",
       "      <th>Manufacturer</th>\n",
       "      <th>MPG</th>\n",
       "      <th>Cylinders</th>\n",
       "      <th>Displacement</th>\n",
       "      <th>Horsepower</th>\n",
       "      <th>Weight</th>\n",
       "      <th>Acceleration</th>\n",
       "      <th>Model.Year</th>\n",
       "      <th>Origin</th>\n",
       "    </tr>\n",
       "  </thead>\n",
       "  <tbody>\n",
       "    <tr>\n",
       "      <th>0</th>\n",
       "      <td>5</td>\n",
       "      <td>torino</td>\n",
       "      <td>ford</td>\n",
       "      <td>17.0</td>\n",
       "      <td>8</td>\n",
       "      <td>302</td>\n",
       "      <td>140.0</td>\n",
       "      <td>3449</td>\n",
       "      <td>10.5</td>\n",
       "      <td>70</td>\n",
       "      <td>American</td>\n",
       "    </tr>\n",
       "    <tr>\n",
       "      <th>1</th>\n",
       "      <td>6</td>\n",
       "      <td>galaxie 500</td>\n",
       "      <td>ford</td>\n",
       "      <td>15.0</td>\n",
       "      <td>8</td>\n",
       "      <td>429</td>\n",
       "      <td>198.0</td>\n",
       "      <td>4341</td>\n",
       "      <td>10.0</td>\n",
       "      <td>70</td>\n",
       "      <td>American</td>\n",
       "    </tr>\n",
       "    <tr>\n",
       "      <th>2</th>\n",
       "      <td>13</td>\n",
       "      <td>torino (sw)</td>\n",
       "      <td>ford</td>\n",
       "      <td>NaN</td>\n",
       "      <td>8</td>\n",
       "      <td>351</td>\n",
       "      <td>153.0</td>\n",
       "      <td>4034</td>\n",
       "      <td>11.0</td>\n",
       "      <td>70</td>\n",
       "      <td>American</td>\n",
       "    </tr>\n",
       "    <tr>\n",
       "      <th>3</th>\n",
       "      <td>18</td>\n",
       "      <td>mustang boss 302</td>\n",
       "      <td>ford</td>\n",
       "      <td>NaN</td>\n",
       "      <td>8</td>\n",
       "      <td>302</td>\n",
       "      <td>140.0</td>\n",
       "      <td>3353</td>\n",
       "      <td>8.0</td>\n",
       "      <td>70</td>\n",
       "      <td>American</td>\n",
       "    </tr>\n",
       "    <tr>\n",
       "      <th>4</th>\n",
       "      <td>21</td>\n",
       "      <td>corona mark ii</td>\n",
       "      <td>toyota</td>\n",
       "      <td>24.0</td>\n",
       "      <td>4</td>\n",
       "      <td>113</td>\n",
       "      <td>95.0</td>\n",
       "      <td>2372</td>\n",
       "      <td>15.0</td>\n",
       "      <td>70</td>\n",
       "      <td>Japanese</td>\n",
       "    </tr>\n",
       "  </tbody>\n",
       "</table>\n",
       "</div>"
      ],
      "text/plain": [
       "   Unnamed: 0               Car Manufacturer   MPG  Cylinders  Displacement  \\\n",
       "0           5            torino         ford  17.0          8           302   \n",
       "1           6       galaxie 500         ford  15.0          8           429   \n",
       "2          13       torino (sw)         ford   NaN          8           351   \n",
       "3          18  mustang boss 302         ford   NaN          8           302   \n",
       "4          21    corona mark ii       toyota  24.0          4           113   \n",
       "\n",
       "   Horsepower  Weight  Acceleration  Model.Year    Origin  \n",
       "0       140.0    3449          10.5          70  American  \n",
       "1       198.0    4341          10.0          70  American  \n",
       "2       153.0    4034          11.0          70  American  \n",
       "3       140.0    3353           8.0          70  American  \n",
       "4        95.0    2372          15.0          70  Japanese  "
      ]
     },
     "execution_count": 2,
     "metadata": {},
     "output_type": "execute_result"
    }
   ],
   "source": [
    "cars = pd.read_csv('../cars.csv')\n",
    "cars.head()"
   ]
  },
  {
   "cell_type": "code",
   "execution_count": 3,
   "metadata": {},
   "outputs": [
    {
     "data": {
      "text/plain": [
       "count    95.000000\n",
       "mean     24.157895\n",
       "std       7.656239\n",
       "min      10.000000\n",
       "25%      18.000000\n",
       "50%      24.000000\n",
       "75%      29.950000\n",
       "max      44.600000\n",
       "Name: MPG, dtype: float64"
      ]
     },
     "execution_count": 3,
     "metadata": {},
     "output_type": "execute_result"
    },
    {
     "data": {
      "text/plain": [
       "count      97.000000\n",
       "mean     2861.051546\n",
       "std       839.486691\n",
       "min      1649.000000\n",
       "25%      2228.000000\n",
       "50%      2702.000000\n",
       "75%      3302.000000\n",
       "max      4906.000000\n",
       "Name: Weight, dtype: float64"
      ]
     },
     "execution_count": 3,
     "metadata": {},
     "output_type": "execute_result"
    }
   ],
   "source": [
    "cars[\"MPG\"].describe()\n",
    "cars[\"Weight\"].describe()"
   ]
  },
  {
   "cell_type": "code",
   "execution_count": 4,
   "metadata": {},
   "outputs": [
    {
     "data": {
      "text/plain": [
       "array(['#cacb8a', '#edb0f2', '#f3b8b4', '#82d5b1', '#98d8f9'],\n",
       "      dtype=object)"
      ]
     },
     "execution_count": 4,
     "metadata": {},
     "output_type": "execute_result"
    }
   ],
   "source": [
    "# Define circle color. \n",
    "conditions = [\n",
    "    (cars[\"Manufacturer\"] == \"ford\"),\n",
    "    (cars[\"Manufacturer\"] == \"bmw\"),\n",
    "    (cars[\"Manufacturer\"] == \"mercedes\"),\n",
    "    (cars[\"Manufacturer\"] == \"toyota\"),\n",
    "    (cars[\"Manufacturer\"] == \"honda\")\n",
    "]\n",
    "\n",
    "values = ['#cacb8a', '#f3b8b4', '#98d8f9', '#edb0f2', \"#82d5b1\"]\n",
    "\n",
    "cars['scatterColor'] = np.select(conditions, values)\n",
    "cars[\"scatterColor\"].unique()\n"
   ]
  },
  {
   "cell_type": "code",
   "execution_count": 5,
   "metadata": {},
   "outputs": [
    {
     "data": {
      "text/plain": [
       "count     97.000000\n",
       "mean     131.330296\n",
       "std       90.961507\n",
       "min        0.000000\n",
       "25%       62.736805\n",
       "50%      114.096469\n",
       "75%      179.108702\n",
       "max      352.908072\n",
       "Name: dim, dtype: float64"
      ]
     },
     "execution_count": 5,
     "metadata": {},
     "output_type": "execute_result"
    }
   ],
   "source": [
    "# Define circle dimension\n",
    "minW = cars[\"Weight\"].min()\n",
    "maxW = cars[\"Weight\"].max()\n",
    "cars[\"dim\"] = np.array([((i - minW) * 70/(maxW-minW)**0.8)  for i in cars[\"Weight\"]])\n",
    "cars[\"dim\"].describe()"
   ]
  },
  {
   "cell_type": "code",
   "execution_count": 9,
   "metadata": {},
   "outputs": [
    {
     "data": {
      "text/plain": [
       "<matplotlib.collections.PathCollection at 0x1d42ddd9430>"
      ]
     },
     "execution_count": 9,
     "metadata": {},
     "output_type": "execute_result"
    },
    {
     "data": {
      "text/plain": [
       "Text(0.5, 0, 'Weight')"
      ]
     },
     "execution_count": 9,
     "metadata": {},
     "output_type": "execute_result"
    },
    {
     "data": {
      "text/plain": [
       "Text(0, 0.5, 'MPG')"
      ]
     },
     "execution_count": 9,
     "metadata": {},
     "output_type": "execute_result"
    },
    {
     "data": {
      "text/plain": [
       "([<matplotlib.axis.XTick at 0x1d42dde7ac0>,\n",
       "  <matplotlib.axis.XTick at 0x1d42dde7a90>,\n",
       "  <matplotlib.axis.XTick at 0x1d42dde7160>,\n",
       "  <matplotlib.axis.XTick at 0x1d42e2205e0>],\n",
       " [Text(0, 0, ''), Text(0, 0, ''), Text(0, 0, ''), Text(0, 0, '')])"
      ]
     },
     "execution_count": 9,
     "metadata": {},
     "output_type": "execute_result"
    },
    {
     "data": {
      "text/plain": [
       "([<matplotlib.axis.YTick at 0x1d42ddeeac0>,\n",
       "  <matplotlib.axis.YTick at 0x1d42ddee340>,\n",
       "  <matplotlib.axis.YTick at 0x1d42dde7190>,\n",
       "  <matplotlib.axis.YTick at 0x1d42e220f40>],\n",
       " [Text(0, 0, ''), Text(0, 0, ''), Text(0, 0, ''), Text(0, 0, '')])"
      ]
     },
     "execution_count": 9,
     "metadata": {},
     "output_type": "execute_result"
    },
    {
     "data": {
      "image/png": "[encoded data removed]",
      "text/plain": [
       "<Figure size 432x288 with 1 Axes>"
      ]
     },
     "metadata": {
      "needs_background": "light"
     },
     "output_type": "display_data"
    }
   ],
   "source": [
    "# Plot Graph\n",
    "fig, ax = plt.subplots()\n",
    "ax.scatter(cars[\"Weight\"], cars[\"MPG\"], c=cars[\"scatterColor\"], alpha=0.5, s=cars[\"dim\"])\n",
    "\n",
    "ax.set_xlabel('Weight')\n",
    "ax.set_ylabel('MPG')\n",
    "plt.xticks(np.arange(2000, 6000, 1000))\n",
    "plt.yticks(np.arange(10, 50, 10))\n",
    "plt.grid(color='grey', linestyle='-', linewidth=0.5)\n",
    "plt.show()"
   ]
  }
 ],
 "metadata": {
  "interpreter": {
   "hash": "9a2c7f70a8d0fcdea38a60a6b7268de700926844cd0877b99976479ccc7509a5"
  },
  "kernelspec": {
   "display_name": "Python 3.9.10 64-bit (windows store)",
   "language": "python",
   "name": "python3"
  },
  "language_info": {
   "codemirror_mode": {
    "name": "ipython",
    "version": 3
   },
   "file_extension": ".py",
   "mimetype": "text/x-python",
   "name": "python",
   "nbconvert_exporter": "python",
   "pygments_lexer": "ipython3",
   "version": "3.9.10"
  },
  "orig_nbformat": 4
 },
 "nbformat": 4,
 "nbformat_minor": 2
}
